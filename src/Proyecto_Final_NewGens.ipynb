{
  "cells": [
    {
      "cell_type": "markdown",
      "metadata": {
        "id": "MdANKf2_TuvQ"
      },
      "source": [
        "# Proyecto Final\n",
        "### Axel Casas Espinosa <axew@ciencias.unam.mx>\n",
        "\n",
        "## Genómica Computacional - 2024I\n"
      ]
    },
    {
      "cell_type": "markdown",
      "metadata": {},
      "source": [
        "Buscamos datos en el 'NCBI GEO Datasets', para encontrar un dataset con información de los pacientes de distrofía muscular DMD, y así poder analizar los datos y encontrar patrones que nos ayuden a entender mejor la enfermedad.\n",
        "\n",
        "Fue una tarea más que complicada, por la gran cantidad de datasets que existen, y la poca información que se encuentra en ellos, finalmente encontramos, que aunque reducido, nos permitía realizar un análisis de los datos. \n",
        "\n",
        "El dataset que encontramos fue el siguiente: [GSE199659] (https://www.ncbi.nlm.nih.gov/geo/query/acc.cgi?acc=GSE199659)\n",
        "\n",
        "Además ocupamos la secuencia del gen DMD para poder realizar el análisis de los datos, [DMD dystrophin  Homo sapiens (human)] (https://www.ncbi.nlm.nih.gov/gene/1756)\n"
      ]
    },
    {
      "cell_type": "code",
      "execution_count": 2,
      "metadata": {},
      "outputs": [
        {
          "name": "stdout",
          "output_type": "stream",
          "text": [
            "Requirement already satisfied: biopython in c:\\users\\ax201\\appdata\\local\\packages\\pythonsoftwarefoundation.python.3.10_qbz5n2kfra8p0\\localcache\\local-packages\\python310\\site-packages (1.81)\n",
            "Requirement already satisfied: numpy in c:\\users\\ax201\\appdata\\local\\packages\\pythonsoftwarefoundation.python.3.10_qbz5n2kfra8p0\\localcache\\local-packages\\python310\\site-packages (from biopython) (1.23.5)\n",
            "Note: you may need to restart the kernel to use updated packages.\n"
          ]
        }
      ],
      "source": [
        "#Se requiere instalar biopython\n",
        "pip install biopython\n"
      ]
    },
    {
      "cell_type": "code",
      "execution_count": 22,
      "metadata": {},
      "outputs": [
        {
          "name": "stdout",
          "output_type": "stream",
          "text": [
            "GGCAGTAATAGAATGCTTTCAGGAAGATGACAGAATCAGGAGAAAGATGCTGTTTTGCACTATCTTGATTTGTTACAGCAGCCAACTTATTGGCATGATGGAGTGACAGGAAAAACAGCTGGCATGGAAGGTAGGATTATTAAAGCTATTACATCATTACAAATACAATTAGAAGCTGGCCATGACAAAGCATATGTTTGAACAAGCAGCTGTTGGTAGCTGGGGTTTGTTGCCGAGCTCTTCAAACTCTGCAAACAGTGTTGCTTTTACAGAATGGATTTTAAAATTGCCTTGTGCTGCGTTAGATTTTGGGGAGGGGGTGTGCTTGCCTCCAACCTCAGGAAAACACTTCTGGGATAGAAATCAGTGTTAGAAGATTTTAGAATAAAGTATTGTTCAGGAGTCTAGGTTTCTTCAGGTAGATGATGACAGGGGGAAAAAAATCTTCGGGGAAATCTACCCCAGATTAGTTATATGCAATTTAGTTGCAAGAACTGATTGATGTATTGGCATATTCAGACAGTGAGAGAAATGAGAATGTACAGAATGTTTGGATAGGTTGAAAATTGTTATACTTGGTTTCTATTTTATAAGGAGTTTGGCTGTCAGTCATTTCTCCTCATCAATTTCTAGCTTTTGACATTTATTCAGTCATTCTGCATTATATGAAGAAAATATATCAATATCTCCTGCAGGGTTTTTCAACAACTCTAGCATCTGTTTCAGCTATTGAACTGTATTCACGTTTTGCCAAGTTGATGTCGACCCAGCTGGTCTATGATTTCTCGCTTGATTACTGCTCTTAATTTCTCTGTATCAGCTTGTTTCAGATAGGGCTTTGAAGGCTGTTAATGAAAAATGACAGAAGTGATAAATTATTGAAAATGTGAGCATTTATTTATTTATTTATTTATTTATTTATTTATTTTGCCCTTTAATGAGTTTTGTCTTACATTCTTTCTTGCCTGCGTACGATTTTTAGAACCCTTTCTCTGTTTTG\n",
            "a) Número de ORFs viables: 44921\n",
            "b) Número de ORFs no espurios con probabilidad < 0.05: 16680\n",
            "c) Número de ORFs no espurios con probabilidad < 0.01: 13661\n",
            "e) Número de ORFs reales: 77\n"
          ]
        }
      ],
      "source": [
        "from Bio.SeqRecord import SeqRecord\n",
        "from Bio import SeqIO\n",
        "\n",
        "# Leer las secuencias del archivo\n",
        "dmd_records = list(SeqIO.parse('DMD_GENE.fna', 'fasta'))\n",
        "\n",
        "# Si solo quieres trabajar con la primera secuencia del archivo, puedes hacerlo así:\n",
        "dmd = dmd_records[0]\n",
        "\n",
        "# Mostrar los primeros 1000 nucleótidos en el gen DMD\n",
        "dmd_DNA = dmd.seq\n",
        "print(dmd_DNA[:1000])\n",
        "\n",
        "\n",
        "def nt_search(seq, start_codon, stop_codon):\n",
        "    orfs = []\n",
        "    start_positions = [i for i in range(len(seq)) if seq.startswith(start_codon, i)]\n",
        "    \n",
        "    for start in start_positions:\n",
        "        for i in range(start, len(seq), 3):\n",
        "            if seq[i:i+3] == stop_codon:\n",
        "                orfs.append(seq[start:i+3])\n",
        "                break\n",
        "                \n",
        "    return orfs\n",
        "\n",
        "# Número de ORFs (Open Reading Frames) viables\n",
        "orfs_all = nt_search(str(dmd_DNA), 'ATG', 'TGA') # TGA es el codón de paro para DMD (Distrofina), \n",
        "                                                 # pero puede variar para otras secuencias   \n",
        "                                                 \n",
        "# Número de ORFs no espurios con probabilidad < 0.05\n",
        "orfs_05 = [orf for orf in orfs_all if len(orf) >= 150 and len(orf) % 3 == 0]\n",
        "\n",
        "# Número de ORFs no espurios con probabilidad < 0.01\n",
        "orfs_01 = [orf for orf in orfs_all if len(orf) >= 180 and len(orf) % 3 == 0]\n",
        "\n",
        "# Imprimir resultados\n",
        "print(f\"a) Número de ORFs viables: {len(orfs_all)}\")\n",
        "print(f\"b) Número de ORFs no espurios con probabilidad < 0.05: {len(orfs_05)}\")\n",
        "print(f\"c) Número de ORFs no espurios con probabilidad < 0.01: {len(orfs_01)}\")\n",
        "\n",
        "# Código para obtener el número de ORFs reales y compara con los resultados anteriores\n",
        "# Utilizando ORFfinder:\n",
        "# - Guarda la secuencia en un archivo FASTA\n",
        "with open('sequence_dmd.fasta', 'w') as fasta_file:\n",
        "    SeqIO.write(dmd, fasta_file, 'fasta')\n",
        "\n",
        "# - Utilizando ORFfinder en línea: https://www.ncbi.nlm.nih.gov/orffinder/\n",
        "# - archivo __all.fa contiene los resultados de ORFfinder\n",
        "orfs_reales = []\n",
        "with open('dmd__all.fa', 'r') as file:\n",
        "    lines = file.readlines()\n",
        "    for line in lines:\n",
        "        if line.startswith(\">\"):\n",
        "            orfs_reales.append(line)\n",
        "print(f\"e) Número de ORFs reales: {len(orfs_reales)}\")"
      ]
    },
    {
      "cell_type": "code",
      "execution_count": 27,
      "metadata": {},
      "outputs": [
        {
          "name": "stdout",
          "output_type": "stream",
          "text": [
            "Accuracy: 0.10256410256410256\n",
            "[[0 0 1 ... 0 0 0]\n",
            " [0 0 1 ... 0 0 0]\n",
            " [0 0 0 ... 0 0 0]\n",
            " ...\n",
            " [0 0 0 ... 0 0 0]\n",
            " [0 0 0 ... 0 0 0]\n",
            " [0 0 0 ... 0 0 0]]\n"
          ]
        }
      ],
      "source": [
        "# Red neuronal para clasificar e identificar ADN del gen DMD\n",
        "import numpy as np\n",
        "import pandas as pd\n",
        "import matplotlib.pyplot as plt\n",
        "from sklearn.model_selection import train_test_split\n",
        "from sklearn.neural_network import MLPClassifier\n",
        "from sklearn.metrics import confusion_matrix, accuracy_score\n",
        "from sklearn.preprocessing import LabelEncoder\n",
        "\n",
        "# Leer el archivo de datos\n",
        "df = pd.read_csv('dmd.csv')\n",
        "\n",
        "# Eliminar las filas con valores faltantes\n",
        "df.dropna(inplace=True)\n",
        "\n",
        "# Separar las características de las etiquetas\n",
        "X = df.drop('pk', axis=1)\n",
        "y = df['ck']\n",
        "\n",
        "# Convertir datos categoricos a numéricos\n",
        "le = LabelEncoder()\n",
        "X = X.apply(le.fit_transform)\n",
        "\n",
        "# Separar los datos en conjuntos de entrenamiento y prueba\n",
        "X_train, X_test, y_train, y_test = train_test_split(X, y, test_size=0.2)\n",
        "\n",
        "# Crear el modelo de red neuronal\n",
        "model = MLPClassifier(hidden_layer_sizes=(100, 100, 100), max_iter=5000, alpha=0.0001, solver='adam', \n",
        "                      random_state=21, tol=0.000000001, batch_size=64, learning_rate_init=0.001)\n",
        "\n",
        "# Entrenar el modelo\n",
        "model.fit(X_train, y_train)\n",
        "\n",
        "# Predecir las etiquetas de los datos de prueba\n",
        "y_pred = model.predict(X_test)\n",
        "\n",
        "# Calcular la precisión del modelo\n",
        "accuracy = accuracy_score(y_test, y_pred)\n",
        "print(f\"Accuracy: {accuracy}\")\n",
        "\n",
        "# Crear la matriz de confusión\n",
        "cm = confusion_matrix(y_test, y_pred)\n",
        "print(cm)"
      ]
    },
    {
      "cell_type": "code",
      "execution_count": 28,
      "metadata": {},
      "outputs": [
        {
          "data": {
            "image/png": "[encoded data removed]",
            "text/plain": [
              "<Figure size 1000x600 with 2 Axes>"
            ]
          },
          "metadata": {},
          "output_type": "display_data"
        }
      ],
      "source": [
        "# Mostrar la matriz de confusión en una gráfica\n",
        "plt.figure(figsize=(10, 6))\n",
        "plt.imshow(cm, cmap=plt.cm.Blues)\n",
        "plt.xlabel('Predicted labels')\n",
        "plt.ylabel('True labels')\n",
        "plt.xticks([], [])\n",
        "plt.yticks([], [])\n",
        "plt.title('Confusion matrix ')\n",
        "plt.colorbar()\n",
        "plt.show()\n"
      ]
    },
    {
      "cell_type": "code",
      "execution_count": 29,
      "metadata": {},
      "outputs": [
        {
          "data": {
            "image/png": "[encoded data removed]",
            "text/plain": [
              "<Figure size 1000x600 with 1 Axes>"
            ]
          },
          "metadata": {},
          "output_type": "display_data"
        }
      ],
      "source": [
        "# Gráfica la relación entre ck, pk y la precisión del modelo\n",
        "\n",
        "# Crear un DataFrame con los resultados\n",
        "data = {'ck': y_test, 'pk': y_pred}\n",
        "df = pd.DataFrame(data)\n",
        "\n",
        "# Crear una gráfica de dispersión\n",
        "plt.figure(figsize=(10, 6))\n",
        "plt.scatter(df['ck'], df['pk'])\n",
        "plt.xlabel('ck')\n",
        "plt.ylabel('pk')\n",
        "plt.show()"
      ]
    }
  ],
  "metadata": {
    "colab": {
      "provenance": []
    },
    "kernelspec": {
      "display_name": "Python 3",
      "name": "python3"
    },
    "language_info": {
      "codemirror_mode": {
        "name": "ipython",
        "version": 3
      },
      "file_extension": ".py",
      "mimetype": "text/x-python",
      "name": "python",
      "nbconvert_exporter": "python",
      "pygments_lexer": "ipython3",
      "version": "3.10.11"
    }
  },
  "nbformat": 4,
  "nbformat_minor": 0
}
